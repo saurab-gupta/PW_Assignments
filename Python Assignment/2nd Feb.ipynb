{
 "cells": [
  {
   "cell_type": "markdown",
   "id": "366cdc2a-8002-4742-9715-e7b56b80a83e",
   "metadata": {},
   "source": [
    "## 1.  Explain with an example each when to use a for loop and a while loop."
   ]
  },
  {
   "cell_type": "markdown",
   "id": "0b40c284-b552-4ae4-ae63-c7ecfdc155da",
   "metadata": {},
   "source": [
    "For : A for loop is used when we know the number of times we want to repeat a block of code. It is a definite loop that         is commonly used to iterate over elements in a collection, such as a list or array.\n",
    "      For example, if we want to print all the elements of a list called 'numbers', we can use a 'for' loop:\n",
    "      \n",
    "      numbers = [1, 2, 3, 4, 5]\n",
    "      for number in numbers:\n",
    "        print(number)\n",
    "        \n",
    "While : A while loop, on the other hand, is used when we want to repeat a block of code while a certain condition is\n",
    "        true. It is an indefinite loop that keeps running until the condition becomes false.\n",
    "        For example, if we want to repeatedly ask the user for input until they enter a valid response, we can use a 'while' loop:\n",
    "        \n",
    "        valid_input = False\n",
    "        while not valid_input:\n",
    "            user_input = input(\"Enter 'yes' or 'no': \")\n",
    "            if user_input.lower() == 'yes' or user_input.lower() == 'no':\n",
    "                valid_input = True\n",
    "            else:\n",
    "                print(\"Invalid input. Try again.\")"
   ]
  },
  {
   "cell_type": "markdown",
   "id": "6438d6ef-a648-46e5-a378-a7c0bc51663e",
   "metadata": {},
   "source": [
    "## 2.  Write a python program to print the sum and product of the first 10 natural numbers using for and while loop."
   ]
  },
  {
   "cell_type": "code",
   "execution_count": 1,
   "id": "d691eabb-1d17-4a60-9305-4e0558f07042",
   "metadata": {},
   "outputs": [
    {
     "name": "stdout",
     "output_type": "stream",
     "text": [
      "Sum using for loop: 55\n",
      "Product using for loop: 3628800\n",
      "Sum using while loop: 55\n",
      "Product using while loop: 3628800\n"
     ]
    }
   ],
   "source": [
    "# For\n",
    "s, p = 0, 1\n",
    "\n",
    "for i in range(1, 11):\n",
    "    s += i\n",
    "    p *= i\n",
    "\n",
    "print(\"Sum using for loop:\", s)\n",
    "print(\"Product using for loop:\", p)\n",
    "\n",
    "\n",
    "# While\n",
    "s, p, n = 0, 1, 1\n",
    "\n",
    "while n <= 10:\n",
    "    s += n\n",
    "    p *= n\n",
    "    n += 1\n",
    "\n",
    "print(\"Sum using while loop:\", s)\n",
    "print(\"Product using while loop:\", p)"
   ]
  },
  {
   "cell_type": "markdown",
   "id": "ac8484c1-ad93-4b4f-baca-0cfc29ecceef",
   "metadata": {},
   "source": [
    "## 3. Create a python program to compute the electricity bill for a household.\n",
    "The per-unit charges in rupees are as follows: For the first 100 units, the user will be charged Rs. 4.5 per \n",
    "unit, for the next 100 units, the user will be charged Rs. 6 per unit, and for the next 100 units, the user will \n",
    "be charged Rs. 10 per unit, After 300 units and above the user will be charged Rs. 20 per unit.\n",
    "\n",
    "\n",
    "You are required to take the units of electricity consumed in a month from the user as input.\n",
    "\n",
    "\n",
    "Your program must pass this test case: when the unit of electricity consumed by the user in a month is \n",
    "310, the total electricity bill should be 2250."
   ]
  },
  {
   "cell_type": "code",
   "execution_count": 3,
   "id": "48602824-3171-4758-97d1-3a8194945eb7",
   "metadata": {},
   "outputs": [
    {
     "name": "stdin",
     "output_type": "stream",
     "text": [
      "Enter Billed Units :  310\n"
     ]
    },
    {
     "name": "stdout",
     "output_type": "stream",
     "text": [
      "Total billed amount :  2250.0\n"
     ]
    }
   ],
   "source": [
    "units = int(input(\"Enter Billed Units : \"))\n",
    "\n",
    "if units<=100:\n",
    "    amount = units * 4.5\n",
    "elif units <=200:\n",
    "    amount = 100 * 4.5 + (units - 100)*6\n",
    "elif units<= 300:\n",
    "    amount= 100*4.5 + 100*6 + (units-200)*10\n",
    "else:\n",
    "    amount = 100*4.5 + 100*6 + 100*10 + (units-300)*20\n",
    "    \n",
    "print(\"Total billed amount : \", amount)\n",
    "    \n",
    "    "
   ]
  },
  {
   "cell_type": "markdown",
   "id": "58caee4c-f10d-44fc-a2ba-93616ba8d03d",
   "metadata": {},
   "source": [
    "## 4. Create a list of numbers from 1 to 100. Use for loop and while loop to calculate the cube of each number and if the cube of that number is divisible by 4 or 5 then append that number in a list and print that list."
   ]
  },
  {
   "cell_type": "code",
   "execution_count": 4,
   "id": "cbbf3f73-61dd-4b1a-81aa-dc0065421729",
   "metadata": {},
   "outputs": [
    {
     "name": "stdout",
     "output_type": "stream",
     "text": [
      "Using For loop :  [2, 4, 5, 6, 8, 10, 12, 14, 15, 16, 18, 20, 22, 24, 25, 26, 28, 30, 32, 34, 35, 36, 38, 40, 42, 44, 45, 46, 48, 50, 52, 54, 55, 56, 58, 60, 62, 64, 65, 66, 68, 70, 72, 74, 75, 76, 78, 80, 82, 84, 85, 86, 88, 90, 92, 94, 95, 96, 98, 100]\n",
      "Using While loop :  [2, 4, 5, 6, 8, 10, 12, 14, 15, 16, 18, 20, 22, 24, 25, 26, 28, 30, 32, 34, 35, 36, 38, 40, 42, 44, 45, 46, 48, 50, 52, 54, 55, 56, 58, 60, 62, 64, 65, 66, 68, 70, 72, 74, 75, 76, 78, 80, 82, 84, 85, 86, 88, 90, 92, 94, 95, 96, 98, 100]\n"
     ]
    }
   ],
   "source": [
    "#For\n",
    "l = []\n",
    "for i in range(1,101):\n",
    "    c = i**3\n",
    "    if c%4==0 or c%5==0:\n",
    "        l.append(i)\n",
    "print(\"Using For loop : \",l)\n",
    "\n",
    "#while\n",
    "w = []\n",
    "n=1\n",
    "while n<101:\n",
    "    c = n**3\n",
    "    if c%4==0 or c%5==0:\n",
    "        w.append(n)\n",
    "    n += 1\n",
    "print(\"Using While loop : \",w)"
   ]
  },
  {
   "cell_type": "markdown",
   "id": "71af0af4-16e0-4323-b40e-9057657e688d",
   "metadata": {},
   "source": [
    "## 5.  Write a program to filter count vowels in the below-given string.\n",
    "    string = \"I want to become a data scientist\""
   ]
  },
  {
   "cell_type": "code",
   "execution_count": 12,
   "id": "f758c6d5-f88c-4789-a5a3-6b58b767bfc9",
   "metadata": {},
   "outputs": [
    {
     "name": "stdout",
     "output_type": "stream",
     "text": [
      "12\n"
     ]
    }
   ],
   "source": [
    "string = \"I want to become a data scientist\"\n",
    "vowels = set(\"aeiouAEIOU\")\n",
    "n=0\n",
    "for i in string:\n",
    "    if i in vowels:\n",
    "        n += 1\n",
    "print(n)"
   ]
  },
  {
   "cell_type": "code",
   "execution_count": null,
   "id": "21ffc257-dde5-4a41-bc19-6a1fa3b62b16",
   "metadata": {},
   "outputs": [],
   "source": []
  }
 ],
 "metadata": {
  "kernelspec": {
   "display_name": "Python 3 (ipykernel)",
   "language": "python",
   "name": "python3"
  },
  "language_info": {
   "codemirror_mode": {
    "name": "ipython",
    "version": 3
   },
   "file_extension": ".py",
   "mimetype": "text/x-python",
   "name": "python",
   "nbconvert_exporter": "python",
   "pygments_lexer": "ipython3",
   "version": "3.10.8"
  }
 },
 "nbformat": 4,
 "nbformat_minor": 5
}
